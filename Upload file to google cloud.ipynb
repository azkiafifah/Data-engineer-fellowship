{
 "cells": [
  {
   "cell_type": "code",
   "execution_count": 6,
   "metadata": {},
   "outputs": [],
   "source": [
    "import os\n",
    "from google.cloud import storage\n",
    "project_id = 'data-fellowship-7' \n",
    "bucket_name = 'datafellow-7' \n",
    "bucket_file = 'file.txt' \n",
    "local_file = 'file.txt'\n",
    "os.environ[\"GOOGLE_APPLICATION_CREDENTIALS\"]= '/Users/azkiaafifah/Downloads/data-fellowship-7-c9fe8504e2f8.json'\n",
    "\n",
    "# Initialise a client\n",
    "client = storage.Client(project_id)\n",
    "# Create a bucket object for our bucket\n",
    "bucket = client.get_bucket(bucket_name)\n",
    "# Create a blob object from the filepath\n",
    "blob = bucket.blob(bucket_file)\n",
    "# Upload the file to a destination\n",
    "blob.upload_from_filename('/Users/azkiaafifah/Desktop/file.txt')"
   ]
  }
 ],
 "metadata": {
  "kernelspec": {
   "display_name": "Python 3.10.7 64-bit",
   "language": "python",
   "name": "python3"
  },
  "language_info": {
   "codemirror_mode": {
    "name": "ipython",
    "version": 3
   },
   "file_extension": ".py",
   "mimetype": "text/x-python",
   "name": "python",
   "nbconvert_exporter": "python",
   "pygments_lexer": "ipython3",
   "version": "3.10.7"
  },
  "orig_nbformat": 4,
  "vscode": {
   "interpreter": {
    "hash": "aee8b7b246df8f9039afb4144a1f6fd8d2ca17a180786b69acc140d282b71a49"
   }
  }
 },
 "nbformat": 4,
 "nbformat_minor": 2
}
